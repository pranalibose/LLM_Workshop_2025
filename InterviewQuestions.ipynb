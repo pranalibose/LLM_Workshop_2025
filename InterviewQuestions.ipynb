{
  "nbformat": 4,
  "nbformat_minor": 0,
  "metadata": {
    "colab": {
      "provenance": [],
      "authorship_tag": "ABX9TyO1kglxfH3z71sPH1FuUAoP"
    },
    "kernelspec": {
      "name": "python3",
      "display_name": "Python 3"
    },
    "language_info": {
      "name": "python"
    }
  },
  "cells": [
    {
      "cell_type": "markdown",
      "source": [
        "## Interview Questions (Data Scientist + MLE)\n",
        "\n",
        "*   Loss Function of Logistic Regression\n",
        "*   Ways to overcome overfitting of models?\n",
        "*   Hyperparameters of logistic regression\n",
        "*   What are the different regularization techniques? Are lasso and ridge regression applicable for algorithms like random forest? why?\n",
        "*   How to test whether a given coin is fair?\n",
        "*   Tech stack used in my project?\n",
        "*   Use case: Suppose a new service like mutual func is added at AngelOne how will you recommend it to new customers given that these are new customers and we don't have any past data for them? What features will you consider?\n",
        "*   Consider the following schema - ID: int, Date: date, user_id: string, item: string, price: int. Determine the following: (i) Returning customers (more than 1 transaction on different days in the past 7 days) (ii) Top 3 maximum spending customer for each date\n",
        "*   Factorial of a number (time complexity)\n",
        "*   Write a function to find whether a number is even or odd without using % operator\n",
        "*   k-largest element from an array\n",
        "*   Difference between lemmetization and stemming\n",
        "*   What are encoders and decoders in transformers?\n",
        "*   Stages of NLP model training\n",
        "*   Is gpt 3.5 a transformer model?\n",
        "*   Assumptions of linear regression\n",
        "*   Equation of linear regression\n",
        "*   What is the null hypothesis of linear regression\n",
        "*   What are bias and variance? What is bias variance tradeoff\n",
        "*   Overfitting and underfitting? Explain how to handle these?\n",
        "*   Draw and explain how overfitting and underfitting model looks like for a linear regression?\n",
        "*   Tell me about different regularization techniques. Differentiate between ridge and lasso\n",
        "*   Which among ridge and lasso is used for feature selection?\n",
        "*   Write a program to compute the cosine similarity between 2 functions without using external libraries.\n",
        "*   how will you write test cases for this?\n",
        "*   What negative test cases are possible for a bot?\n",
        "*   Name some LLM models\n",
        "*   How are LLm models evaluated? on what metrics?\n",
        "*   What is repartitioning?\n",
        "*   What is the F1 score?\n",
        "*   What is a confusion matrix?\n",
        "*   What is encoding? How will you encode a categorical feature that has 2 classes: male and female?\n",
        "*   What are the different feature engineering steps that you have used?\n",
        "*   Model deployment? How do you create a docker image?\n",
        "*   Given the below schema, create a df with dummy values and find out the lowest salaried person for each group (level, designation, skills): name, emp_id, level, designation, skill, salary\n",
        "*   Add a new feature to the above df - score having null values. Then convert the null values to 0.\n",
        "*   How do you perform the bivariate analysis? What visualizations will you use to analyse 2 features of different types (one numerical other categorical)\n",
        "*   What is cross entropy logg loss? Give the formula.\n",
        "*   What is normal distribution? Explain the meaning of the bell curve.\n",
        "*   Regularization techniques. Difference between ridge and lasso. Explain the coefficients that they add and how does it work.\n",
        "*   Write a Python program to return a list of duplicate values (that occurs more than once) given an input list.\n",
        "*   How do you detect outliers? Tell me more about IQR and Z-score.\n",
        "*   Questions related to resume and experience\n",
        "*   Write a function that takes in a long string and a keyword as input and returns a list of numbers that come after the keyword in the long string. Example, long_string = \"Hello:1234jvkbbkwaefHello:45_ efvefv. Hello:_2fererfcHello:231\", keyword = \"Hello:\", output: [1234, 45, 231]\n",
        "*   Leetcode Medium SQL Question: [https://leetcode.com/problems/managers-with-at-least-5-direct-reports/description/?envType=study-plan-v2&envId=top-sql-50](https://leetcode.com/problems/managers-with-at-least-5-direct-reports/description/?envType=study-plan-v2&envId=top-sql-50)\n",
        "*   Given a list of conversations having a sublist each corresponding to a particular user. Within each of the sublists, there are multiple even numbers of dictionaries with 2 items: author and text. Clean the conversation list and remove duplicate conversations.\n",
        "*   Given a json response from a get call. The format of the resonse has 1 key and the value is a string in key value format. The keys within the string corresponds to a unique id and the value is the age. Parse the string to identify the number of items whose age is greater than or equal to 50.\n",
        "*   Max profit given a list of stock prices for a number of days\n",
        "*   Build a keras model to predict the age given the instructions of the number and type of layers, optimizer and loss function, and the epochs and batch size.\n",
        "*   Build a keras model to predict the stock price. The model has 5 layers: LSTM (with input_size and units as 4) followed by dropout layer followed by another LSTM and Dropout layers finally the last one being the Dense layer with a single unit. Optimizer is adam and loss function is mean_squared_error. Epochs=5, verbose=0. Predict on the test set and print the last row of the resultant array along with the model's summary.\n",
        "*   Write a function that takes 2 dictionaries, dict1 has IDs mapped to family members' names and dict2 has IDs mapped to their ages, and returns a list of tuples with names and their ages sorted in ascending order of ages.\n",
        "*   Create a booking class (Booking Movie Tickets in a hall with max capacity of 400) with 3 functionalities: Book Ticket (Allocates a seat at random), Cancel Booking (To cancel the seats associated with the booking id), List Seats (Provides a list of available seats at any given point).\n",
        "*   Given a list of integers, return a list of the sum of the factors of each element in the list. eg: input_list = [1, 5, 6]; output = [1, 6, 12] explanation = [1, (1+5)=6, (1+2+3+6)=12]\n",
        "*   During the development of a movie streaming service, a query is needed to return a list of movie genres and the best movie in that genre based on the maximum average review rating. The result should have 3 columns genre, title, and stars (*'s equivalent to its average rating). There are 2 tables for movies and reviews with the movie I'd in the reviews table being a foreign key with ID in the movies table\n",
        "*   Write a SQL query to return a table showing the id, event_date and no_of_visitors of the high attendance period. A high attendance period is defined as 3 consecutive ID numbers with more than 100 visitors. The system increments I'd number by 1 for each row of the table. Order the output by id\n",
        "*   Write a Python function to calculate the length of the maximum subsequence of alternating 0's and 1's from a list of numbers consisting of only 0's and 1's. Assume the list will always contain at least 1 element.\n",
        "*   Variation of Kadane's algorithm. Length of the largest subarray with the maximum sum of squares of its elements.\n",
        "*   TF-IDF calculation without using any libraries. Given a JSON string with keys as sentences and their values, the words of those sentences. Calculate the TF-IDF values for each word and output a JSON string with the TF-IDF values for each word of each sentence.\n",
        "*   Given a number n, print the sum of all the numbers from 1 to n which are neither divisible by 5 nor 7.\n",
        "*   You are going on vacation and you plan to do a couple of activities during your stay there. Given the start and end time of each activity, determine the minimum number of days you need to stay to complete all the activities. No 2 activities can be performed simultaneously (duration shouldn't overlap). All start and end times are between 1–24.\n",
        "*   MCQs: Which of the following is not a linear regression assumption? One is about lasso and regression. And one probability question: The probability of either of the parents falling sick is 20%. The probability of the father falling sick is 12% and the probability of both falling sick is 5%. Find the probability of the mother falling sick (Ans: 13%).\n",
        "*   Simulate the following in a python program: Given 100 coins out of which 1 is an unfair coin (always head). Find the probability of an event x event_x = Drawing a coin at random from 100 coins and flipping it 10 times and every time you get a head. Also, find out the probability of a coin being unfair given the probability of event_x.\n",
        "*   Discussion around Ranking based ML model. Use case was - There is a travel company and when a traveller comes to search for relevant hotels how will you"
      ],
      "metadata": {
        "id": "s5b1C1dChnNa"
      }
    },
    {
      "cell_type": "code",
      "execution_count": null,
      "metadata": {
        "id": "WmbkIpmVhi8Q"
      },
      "outputs": [],
      "source": []
    }
  ]
}